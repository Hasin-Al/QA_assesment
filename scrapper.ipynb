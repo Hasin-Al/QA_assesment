{
  "nbformat": 4,
  "nbformat_minor": 0,
  "metadata": {
    "colab": {
      "provenance": []
    },
    "kernelspec": {
      "name": "python3",
      "display_name": "Python 3"
    },
    "language_info": {
      "name": "python"
    }
  },
  "cells": [
    {
      "cell_type": "code",
      "source": [
        "!pip install beautifulsoup4\n"
      ],
      "metadata": {
        "colab": {
          "base_uri": "https://localhost:8080/"
        },
        "id": "IYTJyuPPo_Fp",
        "outputId": "e5d471f2-66e5-4fee-a1d4-e2388eb4a009"
      },
      "execution_count": null,
      "outputs": [
        {
          "output_type": "stream",
          "name": "stdout",
          "text": [
            "Requirement already satisfied: beautifulsoup4 in /usr/local/lib/python3.10/dist-packages (4.12.3)\n",
            "Requirement already satisfied: soupsieve>1.2 in /usr/local/lib/python3.10/dist-packages (from beautifulsoup4) (2.6)\n"
          ]
        }
      ]
    },
    {
      "cell_type": "code",
      "execution_count": null,
      "metadata": {
        "colab": {
          "base_uri": "https://localhost:8080/"
        },
        "id": "xmTjo27bo4NH",
        "outputId": "f435a271-f527-4cb5-c6de-e10f9b8e7ca2"
      },
      "outputs": [
        {
          "output_type": "stream",
          "name": "stdout",
          "text": [
            "Scraping category: বাংলাদেশ\n",
            "Scraping category: আন্তর্জাতিক\n",
            "Scraping category: মতামত\n",
            "Scraping category: স্বাস্থ্য\n",
            "Scraping category: খেলা\n",
            "Scraping category: বাণিজ্য\n",
            "Scraping category: বিনোদন\n",
            "Scraping category: জীবনযাপন\n",
            "Scraping category: সাহিত্য\n",
            "Scraping category: শিক্ষা\n",
            "Scraping category: প্রযুক্তি\n",
            "Scraping category: প্রবাসে\n",
            "Scraping completed and data saved to 'daily_star_bangla_news_by_category.csv'.\n"
          ]
        }
      ],
      "source": [
        "import requests\n",
        "from bs4 import BeautifulSoup\n",
        "import pandas as pd\n",
        "import requests\n",
        "from bs4 import BeautifulSoup\n",
        "import pandas as pd\n",
        "#import schedule\n",
        "import time\n",
        "from datetime import datetime\n",
        "\n",
        "# Function to get individual article details from its URL\n",
        "def get_article_details(article_url):\n",
        "    try:\n",
        "        # Fetch the article page HTML content\n",
        "        response = requests.get(article_url)\n",
        "        soup = BeautifulSoup(response.text, 'html.parser')\n",
        "\n",
        "        # Extract the title from the 'data-title' attribute in the sharethis div\n",
        "        share_div = soup.find('div', class_='sharethis-inline-share-buttons')\n",
        "        if share_div and share_div.has_attr('data-title'):\n",
        "            title = share_div['data-title']\n",
        "        else:\n",
        "            title = 'No title found'\n",
        "\n",
        "        # Extract the date from the specific date div\n",
        "        date_div = soup.find('div', class_='date text-14 lh-20 color-iron')\n",
        "        if date_div:\n",
        "            # Get the text before <br> for the date\n",
        "            date = date_div.get_text(strip=True).split('সর্বশেষ')[0].strip()\n",
        "        else:\n",
        "            date = 'No date found'\n",
        "\n",
        "        # Extract the URL from the 'data-url' attribute\n",
        "        if share_div and share_div.has_attr('data-url'):\n",
        "            article_url = share_div['data-url']\n",
        "        else:\n",
        "            article_url = 'No URL found'\n",
        "\n",
        "        # Extract article content specifically from <p class=\"rtejustify\"> elements\n",
        "        content_paragraphs = soup.find_all('p', class_='rtejustify')\n",
        "        article_text = ' '.join([p.get_text(strip=True) for p in content_paragraphs])\n",
        "\n",
        "        if not article_text:  # If no text is found, return fallback message\n",
        "            article_text = 'No article text found'\n",
        "\n",
        "        return title, date, article_text, article_url\n",
        "\n",
        "    except Exception as e:\n",
        "        print(f\"Error fetching article details from {article_url}: {e}\")\n",
        "        return 'No title', 'No date', 'No text', 'No URL'\n",
        "\n",
        "# Function to scrape a single category\n",
        "def scrape_category(category_name, category_url):\n",
        "    try:\n",
        "        response = requests.get(category_url)\n",
        "        soup = BeautifulSoup(response.text, 'html.parser')\n",
        "\n",
        "        # Find all article links on the category page\n",
        "        articles = soup.find_all('h3', class_='title')\n",
        "\n",
        "        news_data = []\n",
        "\n",
        "        for article in articles:\n",
        "            try:\n",
        "                # Extract the article link from the title\n",
        "                article_url = article.find('a')['href']\n",
        "                full_article_url = f'https://bangla.thedailystar.net{article_url}'\n",
        "\n",
        "                # Fetch article details (title, date, text)\n",
        "                title, date, news_text, link = get_article_details(full_article_url)\n",
        "\n",
        "                # Append the news data\n",
        "                news_data.append({\n",
        "                    'title': title,\n",
        "                    'date': date,\n",
        "                    'category': category_name,\n",
        "                    'news_text': news_text,\n",
        "                    'link': link\n",
        "                })\n",
        "\n",
        "            except Exception as e:\n",
        "                print(f\"Error processing article in {category_name}: {e}\")\n",
        "                continue\n",
        "\n",
        "        return news_data\n",
        "\n",
        "    except Exception as e:\n",
        "        print(f\"Error scraping category {category_name}: {e}\")\n",
        "        return []\n",
        "\n",
        "# Function to get all categories from the navigation menu\n",
        "def get_category_links(url):\n",
        "    try:\n",
        "        response = requests.get(url)\n",
        "        soup = BeautifulSoup(response.text, 'html.parser')\n",
        "\n",
        "        # Find all category links in the navigation menu\n",
        "        categories = soup.find('ul', class_='menu')  # Adjust this selector if needed\n",
        "        category_links = {}\n",
        "\n",
        "        if categories:\n",
        "            for li in categories.find_all('li'):\n",
        "                a_tag = li.find('a')\n",
        "                if a_tag and 'href' in a_tag.attrs:\n",
        "                    category_name = a_tag.get_text(strip=True)\n",
        "                    category_url = f\"https://bangla.thedailystar.net{a_tag['href']}\"\n",
        "                    category_links[category_name] = category_url\n",
        "\n",
        "        return category_links\n",
        "\n",
        "    except Exception as e:\n",
        "        print(f\"Error fetching category links: {e}\")\n",
        "        return {}\n",
        "\n",
        "# Main function to scrape all categories\n",
        "def scrape_all_categories(main_url):\n",
        "    # Get the list of categories\n",
        "    categories = get_category_links(main_url)\n",
        "\n",
        "    all_news = []\n",
        "\n",
        "    for category_name, category_url in categories.items():\n",
        "        print(f\"Scraping category: {category_name}\")\n",
        "        # Scrape each category and extend the news list\n",
        "        news_data = scrape_category(category_name, category_url)\n",
        "        all_news.extend(news_data)\n",
        "\n",
        "    return all_news\n",
        "\n",
        "# Main website URL\n",
        "main_url = 'https://bangla.thedailystar.net/'\n",
        "\n",
        "# Scrape all categories\n",
        "all_news_data = scrape_all_categories(main_url)\n",
        "\n",
        "# Convert to DataFrame for better visualization\n",
        "df = pd.DataFrame(all_news_data)\n",
        "\n",
        "# Save to a CSV file if needed\n",
        "df.to_csv('archive.csv', index=False)\n",
        "\n",
        "print(\"Scraping completed and data saved to 'daily_star_bangla_news_by_category.csv'.\")\n"
      ]
    },
    {
      "cell_type": "code",
      "source": [
        "df.to_csv('daily_star_update.csv')\n"
      ],
      "metadata": {
        "id": "Zc06pAp7pHtf"
      },
      "execution_count": null,
      "outputs": []
    },
    {
      "cell_type": "code",
      "source": [
        "import requests\n",
        "from bs4 import BeautifulSoup\n",
        "import pandas as pd\n",
        "#import schedule\n",
        "import time\n",
        "from datetime import datetime\n",
        "\n",
        "def get_article_details(article_url):\n",
        "    try:\n",
        "        # Fetch the article page HTML content\n",
        "        response = requests.get(article_url)\n",
        "        soup = BeautifulSoup(response.text, 'html.parser')\n",
        "\n",
        "        # Extract the title from the 'data-title' attribute in the sharethis div\n",
        "        share_div = soup.find('div', class_='sharethis-inline-share-buttons')\n",
        "        if share_div and share_div.has_attr('data-title'):\n",
        "            title = share_div['data-title']\n",
        "        else:\n",
        "            title = 'No title found'\n",
        "\n",
        "        # Extract the date from the specific date div\n",
        "        date_div = soup.find('div', class_='date text-14 lh-20 color-iron')\n",
        "        if date_div:\n",
        "            # Get the text before <br> for the date\n",
        "            date = date_div.get_text(strip=True).split('সর্বশেষ')[0].strip()\n",
        "        else:\n",
        "            date = 'No date found'\n",
        "\n",
        "        # Extract the URL from the 'data-url' attribute\n",
        "        if share_div and share_div.has_attr('data-url'):\n",
        "            article_url = share_div['data-url']\n",
        "        else:\n",
        "            article_url = 'No URL found'\n",
        "\n",
        "        # Extract article content specifically from <p class=\"rtejustify\"> elements\n",
        "        content_paragraphs = soup.find_all('p', class_='rtejustify')\n",
        "        article_text = ' '.join([p.get_text(strip=True) for p in content_paragraphs])\n",
        "\n",
        "        if not article_text:  # If no text is found, return fallback message\n",
        "            article_text = 'No article text found'\n",
        "\n",
        "        return title, date, article_text, article_url\n",
        "\n",
        "    except Exception as e:\n",
        "        print(f\"Error fetching article details from {article_url}: {e}\")\n",
        "        return 'No title', 'No date', 'No text', 'No URL'\n",
        "\n",
        "def scrape_daily_star():\n",
        "    base_url = \"https://bangla.thedailystar.net\"\n",
        "    main_page_url = f\"{base_url}/todays-news\"\n",
        "    try:\n",
        "        # Fetch the main page\n",
        "        response = requests.get(main_page_url)\n",
        "        soup = BeautifulSoup(response.text, 'html.parser')\n",
        "\n",
        "        # Extract all article titles and URLs\n",
        "        articles = soup.find_all('h3', class_='title')\n",
        "        articles_data = []\n",
        "\n",
        "        for article in articles:\n",
        "            link = article.find('a')\n",
        "            if link and link.has_attr('href'):\n",
        "                article_url = link['href']\n",
        "                # Prepend base URL if the URL is relative\n",
        "                if not article_url.startswith('http'):\n",
        "                    article_url = f\"{base_url}{article_url}\"\n",
        "\n",
        "                title, date, article_text, article_url = get_article_details(article_url)\n",
        "                articles_data.append({\n",
        "                    'title': title,\n",
        "                    'date': date,\n",
        "                    'text': article_text,\n",
        "                    'url': article_url\n",
        "                })\n",
        "\n",
        "        # Convert to DataFrame and save to CSV\n",
        "        df = pd.DataFrame(articles_data)\n",
        "        #df.to_csv(f\"daily_star_articles_{datetime.now().date()}.csv\", index=False, encoding='utf-8')\n",
        "        df.to_csv(\"current_date.csv\", index=False, encoding='utf-8')\n",
        "        print(f\"Scraped {len(articles_data)} articles.\")\n",
        "\n",
        "    except Exception as e:\n",
        "        print(f\"Error scraping Daily Star: {e}\")\n",
        "\n",
        "\n",
        "# Schedule the scraping function to run daily at 10 AM\n",
        "'''\n",
        "schedule.every().day.at(\"10:00\").do(scrape_daily_star)\n",
        "\n",
        "# Keep the script running\n",
        "while True:\n",
        "    schedule.run_pending()\n",
        "    time.sleep(60)  # wait a minute before checking again\n",
        "df['news_text'] '''\n",
        "\n",
        "scrape_daily_star()"
      ],
      "metadata": {
        "colab": {
          "base_uri": "https://localhost:8080/"
        },
        "id": "7m1viV8OprrN",
        "outputId": "dc9e4c81-95f0-4db7-8189-7dfc381f1915"
      },
      "execution_count": null,
      "outputs": [
        {
          "output_type": "stream",
          "name": "stdout",
          "text": [
            "Scraped 36 articles.\n"
          ]
        }
      ]
    },
    {
      "cell_type": "code",
      "source": [
        "!pip install schedule"
      ],
      "metadata": {
        "colab": {
          "base_uri": "https://localhost:8080/"
        },
        "id": "yVNImdkN4Kdd",
        "outputId": "6e0173ab-1391-40ac-ab8d-4cef73e68893"
      },
      "execution_count": null,
      "outputs": [
        {
          "output_type": "stream",
          "name": "stdout",
          "text": [
            "Collecting schedule\n",
            "  Downloading schedule-1.2.2-py3-none-any.whl.metadata (3.8 kB)\n",
            "Downloading schedule-1.2.2-py3-none-any.whl (12 kB)\n",
            "Installing collected packages: schedule\n",
            "Successfully installed schedule-1.2.2\n"
          ]
        }
      ]
    },
    {
      "cell_type": "code",
      "source": [],
      "metadata": {
        "colab": {
          "base_uri": "https://localhost:8080/",
          "height": 602
        },
        "id": "BuWSIUjLD3Uv",
        "outputId": "512348d0-a7eb-4361-aef6-7378dea4573c"
      },
      "execution_count": null,
      "outputs": [
        {
          "output_type": "stream",
          "name": "stderr",
          "text": [
            "/usr/local/lib/python3.10/dist-packages/matplotlib/animation.py:884: UserWarning: Animation was deleted without rendering anything. This is most likely not intended. To prevent deletion, assign the Animation to a variable, e.g. `anim`, that exists until you output the Animation using `plt.show()` or `anim.save()`.\n",
            "  warnings.warn(\n"
          ]
        },
        {
          "output_type": "display_data",
          "data": {
            "text/plain": [
              "<Figure size 800x600 with 1 Axes>"
            ],
            "image/png": "[encoded data removed]"
          },
          "metadata": {}
        }
      ]
    },
    {
      "cell_type": "code",
      "source": [
        "import pandas as pd\n",
        "import matplotlib.pyplot as plt\n",
        "import seaborn as sns\n",
        "from matplotlib.animation import FuncAnimation\n",
        "\n",
        "# Sample data for major flood count\n",
        "data = {\n",
        "    'Year Range': ['1975-1999', '2000-2023'],\n",
        "    'Major Flood Count': [4, 7]\n",
        "}\n",
        "\n",
        "# Create DataFrame\n",
        "df = pd.DataFrame(data)\n",
        "\n",
        "# Set the seaborn style\n",
        "sns.set(style=\"whitegrid\", context=\"talk\")\n",
        "\n",
        "# Create a figure and axis object\n",
        "fig, ax = plt.subplots(figsize=(10, 6))\n",
        "\n",
        "# Initialize the bar plot with zero heights\n",
        "bars = ax.bar(df['Year Range'], [0, 0], color=sns.color_palette('coolwarm', n_colors=2))\n",
        "\n",
        "# Set titles and labels\n",
        "ax.set_title(\"Major Flood Count (1975-1999 vs. 2000-2023)\", fontsize=20)\n",
        "ax.set_xlabel(\"Year Range\", fontsize=15)\n",
        "ax.set_ylabel(\"Flood Count\", fontsize=15)\n",
        "\n",
        "# Set the y-axis limit\n",
        "ax.set_ylim(0, max(df['Major Flood Count']) + 5)\n",
        "\n",
        "# Animation function to gradually increase the bar height\n",
        "def animate(frame):\n",
        "    for i, bar in enumerate(bars):\n",
        "        # Gradually increase the height of each bar based on the frame\n",
        "        bar.set_height(df['Major Flood Count'][i] * frame / 100)\n",
        "    return bars\n",
        "\n",
        "# Create animation, where frames will span over 100 frames (5 seconds at 20 FPS)\n",
        "ani = FuncAnimation(fig, animate, frames=100, interval=1000, repeat=False)\n",
        "\n",
        "# Save the animation as a gif (optional, if you want to save the output)\n",
        "ani.save(\"/content/major_flood_count_animation_final2.gif\", writer='pillow', fps=20)\n",
        "\n",
        "# Display the animation\n",
        "plt.show()\n"
      ],
      "metadata": {
        "colab": {
          "base_uri": "https://localhost:8080/",
          "height": 595
        },
        "id": "b3vQyvbWKMTL",
        "outputId": "042dec8a-93bc-435d-deea-6ea71e1feb00"
      },
      "execution_count": null,
      "outputs": [
        {
          "output_type": "display_data",
          "data": {
            "text/plain": [
              "<Figure size 1000x600 with 1 Axes>"
            ],
            "image/png": "[encoded data removed]"
          },
          "metadata": {}
        }
      ]
    },
    {
      "cell_type": "code",
      "source": [],
      "metadata": {
        "id": "Rc8DhMQZRxJh"
      },
      "execution_count": null,
      "outputs": []
    }
  ]
}